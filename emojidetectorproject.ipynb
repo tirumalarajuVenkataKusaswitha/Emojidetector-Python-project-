{
 "cells": [
  {
   "cell_type": "code",
   "execution_count": 2,
   "id": "d128e140-5833-4f16-9f0a-21ebd84c9cfa",
   "metadata": {},
   "outputs": [
    {
     "name": "stdout",
     "output_type": "stream",
     "text": [
      "Requirement already satisfied: demoji in c:\\users\\kusas\\anaconda3\\lib\\site-packages (1.1.0)\n",
      "Note: you may need to restart the kernel to use updated packages.\n"
     ]
    }
   ],
   "source": [
    "pip install demoji"
   ]
  },
  {
   "cell_type": "code",
   "execution_count": 1,
   "id": "88fe9f26-d50d-4f84-b289-acabacb69f6b",
   "metadata": {},
   "outputs": [
    {
     "name": "stderr",
     "output_type": "stream",
     "text": [
      "C:\\Users\\kusas\\AppData\\Local\\Temp\\ipykernel_11480\\2319952594.py:2: FutureWarning: The demoji.download_codes attribute is deprecated and will be removed from demoji in a future version. It is an unused attribute as emoji codes are now distributed directly with the demoji package.\n",
      "  demoji.download_codes()\n"
     ]
    }
   ],
   "source": [
    "import demoji\n",
    "demoji.download_codes()"
   ]
  },
  {
   "cell_type": "code",
   "execution_count": 3,
   "id": "2a748f8a-0d2a-4556-8c54-a6031b146c27",
   "metadata": {},
   "outputs": [
    {
     "data": {
      "text/plain": [
       "{'😊': 'smiling face with smiling eyes'}"
      ]
     },
     "execution_count": 3,
     "metadata": {},
     "output_type": "execute_result"
    }
   ],
   "source": [
    "import demoji\n",
    "text=\"Hello i am your friend 😊\"\n",
    "demoji.findall(text)"
   ]
  },
  {
   "cell_type": "code",
   "execution_count": null,
   "id": "49683c26-a1b7-4694-8d9e-f5b55d649ac0",
   "metadata": {},
   "outputs": [],
   "source": []
  }
 ],
 "metadata": {
  "kernelspec": {
   "display_name": "Python 3 (ipykernel)",
   "language": "python",
   "name": "python3"
  },
  "language_info": {
   "codemirror_mode": {
    "name": "ipython",
    "version": 3
   },
   "file_extension": ".py",
   "mimetype": "text/x-python",
   "name": "python",
   "nbconvert_exporter": "python",
   "pygments_lexer": "ipython3",
   "version": "3.12.4"
  }
 },
 "nbformat": 4,
 "nbformat_minor": 5
}
